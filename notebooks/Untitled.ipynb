{
 "cells": [
  {
   "cell_type": "code",
   "execution_count": 1,
   "metadata": {},
   "outputs": [
    {
     "name": "stdout",
     "output_type": "stream",
     "text": [
      "\n",
      "Please cite the following paper when using nnUNet:\n",
      "Fabian Isensee, Paul F. Jäger, Simon A. A. Kohl, Jens Petersen, Klaus H. Maier-Hein \"Automated Design of Deep Learning Methods for Biomedical Image Segmentation\" arXiv preprint arXiv:1904.08128 (2020).\n",
      "If you have questions or suggestions, feel free to open an issue at https://github.com/MIC-DKFZ/nnUNet\n",
      "\n"
     ]
    }
   ],
   "source": [
    "import argparse\n",
    "from copy import deepcopy\n",
    "from typing import Tuple, Union, List\n",
    "\n",
    "import numpy as np\n",
    "from batchgenerators.augmentations.utils import resize_segmentation\n",
    "from nnunet.inference.segmentation_export import save_segmentation_nifti_from_softmax, save_segmentation_nifti\n",
    "from batchgenerators.utilities.file_and_folder_operations import *\n",
    "from multiprocessing import Process, Queue\n",
    "import torch\n",
    "import SimpleITK as sitk\n",
    "import shutil\n",
    "from multiprocessing import Pool\n",
    "from nnunet.postprocessing.connected_components import load_remove_save, load_postprocessing\n",
    "from nnunet.training.model_restore import load_model_and_checkpoint_files\n",
    "from nnunet.training.network_training.nnUNetTrainer import nnUNetTrainer\n",
    "from nnunet.utilities.one_hot_encoding import to_one_hot"
   ]
  },
  {
   "cell_type": "code",
   "execution_count": 13,
   "metadata": {},
   "outputs": [],
   "source": [
    "path_sample_pickle_file_3d_fullres = \"/net/pasnas01/pool1/ramanha/corpus/nnUNet/nnUNet_trained_models/nnUNet/3d_cascade_fullres/Task003_Liver/nnUNetTrainerV2CascadeFullRes__nnUNetPlansv2.1/plans.pkl\""
   ]
  },
  {
   "cell_type": "code",
   "execution_count": 14,
   "metadata": {},
   "outputs": [],
   "source": [
    "def load_pickle(file, mode='rb'):\n",
    "    with open(file, mode) as f:\n",
    "        a = pickle.load(f)\n",
    "    return a"
   ]
  },
  {
   "cell_type": "code",
   "execution_count": 15,
   "metadata": {},
   "outputs": [],
   "source": [
    "num_modalities = load_pickle(path_sample_pickle_file_3d_fullres)['num_modalities']"
   ]
  },
  {
   "cell_type": "code",
   "execution_count": 16,
   "metadata": {},
   "outputs": [
    {
     "data": {
      "text/plain": [
       "1"
      ]
     },
     "execution_count": 16,
     "metadata": {},
     "output_type": "execute_result"
    }
   ],
   "source": [
    "num_modalities"
   ]
  },
  {
   "cell_type": "code",
   "execution_count": 20,
   "metadata": {},
   "outputs": [],
   "source": [
    "input_folder = \"/net/pasnas01/pool1/ramanha/corpus/nnUNet/nnUNet_raw_data_base/nnUNet_raw_data/Task011_LiverTest/imagesTr/\""
   ]
  },
  {
   "cell_type": "code",
   "execution_count": 21,
   "metadata": {},
   "outputs": [],
   "source": [
    "def check_input_folder_and_return_caseIDs(input_folder, expected_num_modalities):\n",
    "    print(\"This model expects %d input modalities for each image\" % expected_num_modalities)\n",
    "    files = subfiles(input_folder, suffix=\".nii.gz\", join=False, sort=True)\n",
    "\n",
    "    maybe_case_ids = np.unique([i[:-12] for i in files])\n",
    "\n",
    "    remaining = deepcopy(files)\n",
    "    missing = []\n",
    "\n",
    "    assert len(files) > 0, \"input folder did not contain any images (expected to find .nii.gz file endings)\"\n",
    "\n",
    "    # now check if all required files are present and that no unexpected files are remaining\n",
    "    for c in maybe_case_ids:\n",
    "        for n in range(expected_num_modalities):\n",
    "            expected_output_file = c + \"_%04.0d.nii.gz\" % n\n",
    "            if not isfile(join(input_folder, expected_output_file)):\n",
    "                missing.append(expected_output_file)\n",
    "            else:\n",
    "                remaining.remove(expected_output_file)\n",
    "\n",
    "    print(\"Found %d unique case ids, here are some examples:\" % len(maybe_case_ids),\n",
    "          np.random.choice(maybe_case_ids, min(len(maybe_case_ids), 10)))\n",
    "    print(\"If they don't look right, make sure to double check your filenames. They must end with _0000.nii.gz etc\")\n",
    "\n",
    "    if len(remaining) > 0:\n",
    "        print(\"found %d unexpected remaining files in the folder. Here are some examples:\" % len(remaining),\n",
    "              np.random.choice(remaining, min(len(remaining), 10)))\n",
    "\n",
    "    if len(missing) > 0:\n",
    "        print(\"Some files are missing:\")\n",
    "        print(missing)\n",
    "        raise RuntimeError(\"missing files in input_folder\")\n",
    "\n",
    "    return maybe_case_ids"
   ]
  },
  {
   "cell_type": "code",
   "execution_count": 22,
   "metadata": {},
   "outputs": [
    {
     "name": "stdout",
     "output_type": "stream",
     "text": [
      "This model expects 1 input modalities for each image\n",
      "Found 5 unique case ids, here are some examples: ['liver_69' 'liver_18' 'liver_77' 'liver_120' 'liver_14']\n",
      "If they don't look right, make sure to double check your filenames. They must end with _0000.nii.gz etc\n"
     ]
    }
   ],
   "source": [
    "case_ids = check_input_folder_and_return_caseIDs(input_folder, 1)"
   ]
  },
  {
   "cell_type": "code",
   "execution_count": 23,
   "metadata": {},
   "outputs": [],
   "source": [
    "output_folder = \"/net/pasnas01/pool1/ramanha/corpus/nnUNet/nnUNet_raw_data_base/nnUNet_raw_data/Task011_LiverTest_output\""
   ]
  },
  {
   "cell_type": "code",
   "execution_count": 24,
   "metadata": {},
   "outputs": [],
   "source": [
    "output_files = [join(output_folder, i + \".nii.gz\") for i in case_ids]"
   ]
  },
  {
   "cell_type": "code",
   "execution_count": 25,
   "metadata": {},
   "outputs": [
    {
     "data": {
      "text/plain": [
       "['/net/pasnas01/pool1/ramanha/corpus/nnUNet/nnUNet_raw_data_base/nnUNet_raw_data/Task011_LiverTest_output/liver_120.nii.gz',\n",
       " '/net/pasnas01/pool1/ramanha/corpus/nnUNet/nnUNet_raw_data_base/nnUNet_raw_data/Task011_LiverTest_output/liver_14.nii.gz',\n",
       " '/net/pasnas01/pool1/ramanha/corpus/nnUNet/nnUNet_raw_data_base/nnUNet_raw_data/Task011_LiverTest_output/liver_18.nii.gz',\n",
       " '/net/pasnas01/pool1/ramanha/corpus/nnUNet/nnUNet_raw_data_base/nnUNet_raw_data/Task011_LiverTest_output/liver_69.nii.gz',\n",
       " '/net/pasnas01/pool1/ramanha/corpus/nnUNet/nnUNet_raw_data_base/nnUNet_raw_data/Task011_LiverTest_output/liver_77.nii.gz']"
      ]
     },
     "execution_count": 25,
     "metadata": {},
     "output_type": "execute_result"
    }
   ],
   "source": [
    "output_files"
   ]
  },
  {
   "cell_type": "code",
   "execution_count": 26,
   "metadata": {},
   "outputs": [
    {
     "data": {
      "text/plain": [
       "['liver_120_0000.nii.gz',\n",
       " 'liver_14_0000.nii.gz',\n",
       " 'liver_18_0000.nii.gz',\n",
       " 'liver_69_0000.nii.gz',\n",
       " 'liver_77_0000.nii.gz']"
      ]
     },
     "execution_count": 26,
     "metadata": {},
     "output_type": "execute_result"
    }
   ],
   "source": [
    "all_files = subfiles(input_folder, suffix=\".nii.gz\", join=False, sort=True)\n",
    "all_files"
   ]
  },
  {
   "cell_type": "code",
   "execution_count": 27,
   "metadata": {},
   "outputs": [
    {
     "data": {
      "text/plain": [
       "[['/net/pasnas01/pool1/ramanha/corpus/nnUNet/nnUNet_raw_data_base/nnUNet_raw_data/Task011_LiverTest/imagesTr/liver_120_0000.nii.gz'],\n",
       " ['/net/pasnas01/pool1/ramanha/corpus/nnUNet/nnUNet_raw_data_base/nnUNet_raw_data/Task011_LiverTest/imagesTr/liver_14_0000.nii.gz'],\n",
       " ['/net/pasnas01/pool1/ramanha/corpus/nnUNet/nnUNet_raw_data_base/nnUNet_raw_data/Task011_LiverTest/imagesTr/liver_18_0000.nii.gz'],\n",
       " ['/net/pasnas01/pool1/ramanha/corpus/nnUNet/nnUNet_raw_data_base/nnUNet_raw_data/Task011_LiverTest/imagesTr/liver_69_0000.nii.gz'],\n",
       " ['/net/pasnas01/pool1/ramanha/corpus/nnUNet/nnUNet_raw_data_base/nnUNet_raw_data/Task011_LiverTest/imagesTr/liver_77_0000.nii.gz']]"
      ]
     },
     "execution_count": 27,
     "metadata": {},
     "output_type": "execute_result"
    }
   ],
   "source": [
    "list_of_lists = [[join(input_folder, i) for i in all_files if i[:len(j)].startswith(j) and\n",
    "                      len(i) == (len(j) + 12)] for j in case_ids]\n",
    "list_of_lists\n"
   ]
  },
  {
   "cell_type": "code",
   "execution_count": null,
   "metadata": {},
   "outputs": [],
   "source": []
  }
 ],
 "metadata": {
  "kernelspec": {
   "display_name": "Python 3",
   "language": "python",
   "name": "python3"
  },
  "language_info": {
   "codemirror_mode": {
    "name": "ipython",
    "version": 3
   },
   "file_extension": ".py",
   "mimetype": "text/x-python",
   "name": "python",
   "nbconvert_exporter": "python",
   "pygments_lexer": "ipython3",
   "version": "3.8.5"
  }
 },
 "nbformat": 4,
 "nbformat_minor": 4
}
